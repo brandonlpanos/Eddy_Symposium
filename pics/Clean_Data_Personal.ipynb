{
 "cells": [
  {
   "cell_type": "code",
   "execution_count": 96,
   "metadata": {},
   "outputs": [],
   "source": [
    "import os\n",
    "import pickle\n",
    "import numpy as np\n",
    "import matplotlib.pyplot as plt"
   ]
  },
  {
   "cell_type": "markdown",
   "metadata": {},
   "source": [
    "### Flare dataset"
   ]
  },
  {
   "cell_type": "code",
   "execution_count": 30,
   "metadata": {},
   "outputs": [
    {
     "data": {
      "text/plain": [
       "['data', 'headers', 'features']"
      ]
     },
     "execution_count": 30,
     "metadata": {},
     "output_type": "execute_result"
    }
   ],
   "source": [
    "# iris_level_2B_10DNs_extended\n",
    "# fl_path = '/data1/iris_level_2C_10DNs_extended/FL_20140329_140938_3860258481.npz' # Lucias\n",
    "fl_path = '/data1/iris_level_2B_10DNs_extended/FL_20140910_112825_3860259453.npz'# sit-and-stare (care B and C)\n",
    "fhand = np.load (fl_path)\n",
    "fhand.files"
   ]
  },
  {
   "cell_type": "code",
   "execution_count": 31,
   "metadata": {},
   "outputs": [
    {
     "data": {
      "text/plain": [
       "(1, 237, 776, 240)"
      ]
     },
     "execution_count": 31,
     "metadata": {},
     "output_type": "execute_result"
    }
   ],
   "source": [
    "data = fhand['data']\n",
    "data.shape"
   ]
  },
  {
   "cell_type": "code",
   "execution_count": 32,
   "metadata": {},
   "outputs": [
    {
     "data": {
      "text/plain": [
       "(1, 237, 776, 12)"
      ]
     },
     "execution_count": 32,
     "metadata": {},
     "output_type": "execute_result"
    }
   ],
   "source": [
    "features = fhand['features']\n",
    "features.shape"
   ]
  },
  {
   "cell_type": "code",
   "execution_count": 33,
   "metadata": {},
   "outputs": [],
   "source": [
    "flare_data = {'spectra':data.reshape(data.shape[0]*data.shape[1]*data.shape[2],data.shape[3]),\n",
    "              'features': features.reshape(features.shape[0]*features.shape[1]*features.shape[2],features.shape[3])}"
   ]
  },
  {
   "cell_type": "code",
   "execution_count": 34,
   "metadata": {},
   "outputs": [
    {
     "name": "stdout",
     "output_type": "stream",
     "text": [
      "(183912, 12)\n",
      "(183912, 240)\n"
     ]
    }
   ],
   "source": [
    "print(flare_data['features'].shape)\n",
    "print(flare_data['spectra'].shape)"
   ]
  },
  {
   "cell_type": "code",
   "execution_count": 35,
   "metadata": {},
   "outputs": [
    {
     "name": "stdout",
     "output_type": "stream",
     "text": [
      "(169187, 240)\n",
      "(169187, 12)\n"
     ]
    }
   ],
   "source": [
    "# clean nans\n",
    "good_inds = np.argwhere(~np.isnan(flare_data['spectra']).any(axis=1))\n",
    "fl_spectra = np.squeeze(flare_data['spectra'][good_inds])\n",
    "fl_features = np.squeeze(flare_data['features'][good_inds])\n",
    "print(fl_spectra.shape)\n",
    "print(fl_features.shape)"
   ]
  },
  {
   "cell_type": "code",
   "execution_count": 36,
   "metadata": {},
   "outputs": [],
   "source": [
    "fl_features = { 'intensity': fl_features[:,0], \n",
    "                'triplet_intensity': fl_features[:,1],\n",
    "                'line_width': fl_features[:,3],\n",
    "                'line_asymmetry': fl_features[:,4],\n",
    "                'total_continium': fl_features[:,5],\n",
    "               'kh_ratio': fl_features[:,7]}"
   ]
  },
  {
   "cell_type": "code",
   "execution_count": 37,
   "metadata": {},
   "outputs": [
    {
     "data": {
      "text/plain": [
       "dict_keys(['intensity', 'triplet_intensity', 'line_width', 'line_asymmetry', 'total_continium', 'kh_ratio'])"
      ]
     },
     "execution_count": 37,
     "metadata": {},
     "output_type": "execute_result"
    }
   ],
   "source": [
    "fl_features.keys()"
   ]
  },
  {
   "cell_type": "code",
   "execution_count": 59,
   "metadata": {},
   "outputs": [],
   "source": [
    "with open('/data1/userspace/bpanos/Eddy/fl_spectra.p', 'wb') as f:\n",
    "    pickle.dump(fl_spectra, f) \n",
    "with open('/data1/userspace/bpanos/Eddy/fl_features.p', 'wb') as f:\n",
    "    pickle.dump(fl_features, f) "
   ]
  },
  {
   "cell_type": "markdown",
   "metadata": {},
   "source": [
    "### Quiet Sun dataset"
   ]
  },
  {
   "cell_type": "code",
   "execution_count": 90,
   "metadata": {},
   "outputs": [
    {
     "name": "stdout",
     "output_type": "stream",
     "text": [
      "switch\n",
      "switch\n",
      "switch\n",
      "QS_20151010_233413_3620005935.npz\n"
     ]
    }
   ],
   "source": [
    "# find QS obs with similar number of spectra\n",
    "paths = os.listdir('/data1/iris_level_2B_7DNs_extended/')\n",
    "current = 1\n",
    "wining_obs = 'None'\n",
    "for path in paths:\n",
    "    if 'QS' not in path: continue\n",
    "    fhand = np.load('/data1/iris_level_2B_7DNs_extended/' + path)\n",
    "    data = fhand['data']\n",
    "    nprof = data.reshape(data.shape[0]*data.shape[1]*data.shape[2],data.shape[3])\n",
    "    qs_length = len(nprof)\n",
    "    rat = np.round((qs_length / 169187.),2)\n",
    "    if abs(1-rat) < current:\n",
    "        print('switch')\n",
    "        current = abs(1-rat)\n",
    "        wining_obs = path\n",
    "print(wining_obs)"
   ]
  },
  {
   "cell_type": "code",
   "execution_count": 97,
   "metadata": {},
   "outputs": [
    {
     "data": {
      "text/plain": [
       "['data', 'headers', 'features']"
      ]
     },
     "execution_count": 97,
     "metadata": {},
     "output_type": "execute_result"
    }
   ],
   "source": [
    "qs_path = '/data1/iris_level_2B_7DNs_extended/QS_20151010_233413_3620005935.npz'# sit-and-stare (care B and C)\n",
    "fhand = np.load (qs_path)\n",
    "fhand.files"
   ]
  },
  {
   "cell_type": "code",
   "execution_count": 98,
   "metadata": {},
   "outputs": [
    {
     "data": {
      "text/plain": [
       "(16, 27, 392, 240)"
      ]
     },
     "execution_count": 98,
     "metadata": {},
     "output_type": "execute_result"
    }
   ],
   "source": [
    "data = fhand['data']\n",
    "data.shape"
   ]
  },
  {
   "cell_type": "code",
   "execution_count": 99,
   "metadata": {},
   "outputs": [
    {
     "data": {
      "text/plain": [
       "(16, 27, 392, 12)"
      ]
     },
     "execution_count": 99,
     "metadata": {},
     "output_type": "execute_result"
    }
   ],
   "source": [
    "features = fhand['features']\n",
    "features.shape"
   ]
  },
  {
   "cell_type": "code",
   "execution_count": 100,
   "metadata": {},
   "outputs": [],
   "source": [
    "qs_data = {'spectra':data.reshape(data.shape[0]*data.shape[1]*data.shape[2],data.shape[3]),\n",
    "              'features': features.reshape(features.shape[0]*features.shape[1]*features.shape[2],features.shape[3])}"
   ]
  },
  {
   "cell_type": "code",
   "execution_count": 101,
   "metadata": {},
   "outputs": [
    {
     "name": "stdout",
     "output_type": "stream",
     "text": [
      "(169344, 12)\n",
      "(169344, 240)\n"
     ]
    }
   ],
   "source": [
    "print(qs_data['features'].shape)\n",
    "print(qs_data['spectra'].shape)"
   ]
  },
  {
   "cell_type": "code",
   "execution_count": 103,
   "metadata": {},
   "outputs": [
    {
     "name": "stdout",
     "output_type": "stream",
     "text": [
      "(152456, 240)\n",
      "(152456, 12)\n"
     ]
    }
   ],
   "source": [
    "# clean nans\n",
    "good_inds = np.argwhere(~np.isnan(qs_data['spectra']).any(axis=1))\n",
    "qs_spectra = np.squeeze(qs_data['spectra'][good_inds])\n",
    "qs_features = np.squeeze(qs_data['features'][good_inds])\n",
    "print(qs_spectra.shape)\n",
    "print(qs_features.shape)"
   ]
  },
  {
   "cell_type": "code",
   "execution_count": 104,
   "metadata": {},
   "outputs": [],
   "source": [
    "qs_features = { 'intensity': qs_features[:,0], \n",
    "                'triplet_intensity': qs_features[:,1],\n",
    "                'line_width': qs_features[:,3],\n",
    "                'line_asymmetry': qs_features[:,4],\n",
    "                'total_continium': qs_features[:,5],\n",
    "               'kh_ratio': qs_features[:,7]}"
   ]
  },
  {
   "cell_type": "code",
   "execution_count": 105,
   "metadata": {},
   "outputs": [
    {
     "data": {
      "text/plain": [
       "dict_keys(['intensity', 'triplet_intensity', 'line_width', 'line_asymmetry', 'total_continium', 'kh_ratio'])"
      ]
     },
     "execution_count": 105,
     "metadata": {},
     "output_type": "execute_result"
    }
   ],
   "source": [
    "qs_features.keys()"
   ]
  },
  {
   "cell_type": "code",
   "execution_count": 113,
   "metadata": {},
   "outputs": [],
   "source": [
    "with open('/data1/userspace/bpanos/Eddy/qs_spectra.p', 'wb') as f:\n",
    "    pickle.dump(qs_spectra, f) \n",
    "with open('/data1/userspace/bpanos/Eddy/qs_features.p', 'wb') as f:\n",
    "    pickle.dump(qs_features, f) "
   ]
  }
 ],
 "metadata": {
  "kernelspec": {
   "display_name": "Python 3",
   "language": "python",
   "name": "python3"
  },
  "language_info": {
   "codemirror_mode": {
    "name": "ipython",
    "version": 3
   },
   "file_extension": ".py",
   "mimetype": "text/x-python",
   "name": "python",
   "nbconvert_exporter": "python",
   "pygments_lexer": "ipython3",
   "version": "3.6.9"
  }
 },
 "nbformat": 4,
 "nbformat_minor": 2
}
